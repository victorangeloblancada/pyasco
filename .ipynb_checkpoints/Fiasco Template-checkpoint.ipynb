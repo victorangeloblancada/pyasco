{
 "cells": [
  {
   "cell_type": "markdown",
   "id": "12047b85",
   "metadata": {
    "heading_collapsed": true
   },
   "source": [
    "# Fiasco"
   ]
  },
  {
   "cell_type": "markdown",
   "id": "b204ce13",
   "metadata": {
    "hidden": true
   },
   "source": [
    "SETUP:\n",
    "\n",
    "Roll dice pool of (two white two black dice) x players\n",
    "\n",
    "Reroll if skewed result - good mix is best\n",
    "\n",
    "Group dice by numbers\n",
    "\n",
    "Player who grew up in smallest town begins, clockwise follows\n",
    "\n",
    "Players have relationship to player to left and right in circle; card between them notes details\n",
    "\n",
    "Repeat for all dice:\n",
    "\n",
    "go to playset relationship: need/location/object tables, spend die from pool to select\n",
    "\n",
    "select die to pick corresponding number top category of relationship/object/need/location then bottom detail\n",
    "\n",
    "place die on card between players you choose, note category then detail as defined\n",
    "\n",
    "next player can further define relationship, establish new relationship, or add need, object, location -- all have to be associated with relationship\n",
    "\n",
    "last die is wild\n",
    "\n",
    "relations have to be between two adjacent players\n",
    "\n",
    "go with obvious, support players who head in a direction\n",
    "\n",
    "(At end of setup once all die spent every relationship card will have two dice on it)\n",
    "\n",
    "Must be at least one Need, one Location, and one Object in play, but don't have to have Object/Need/ Location for every relationship\n",
    "\n",
    "Location/need/object are shared in a relationship and both characters driven by it\n",
    "\n",
    "Discuss relationships and identities, who is who, choose names, create characters - not too deep though!\n",
    "\n",
    "Put all dice back in central pile\n",
    "\n",
    "ACT ONE\n",
    "\n",
    "Emphasize that flexibility is ok and disregarding some details is ok - these are prompts not requirements\n",
    "\n",
    "Turns clockwise from person from smallest town\n",
    "\n",
    "On your turn your character is Spotlight\n",
    "\n",
    "Spotlight player first choses to Establish or Resolve that scene:\n",
    "\n",
    "Establish scene yourself - others together Resolve it determining if goes positive / negative for your character\n",
    "\n",
    "or\n",
    "\n",
    "Everyone else Establishes scene and you Resolve it determining outcome is positive / negative for your character\n",
    "\n",
    "Spotlight character must be in that player’s turn scene\n",
    "\n",
    "Establishing scene = who is there (other player characters), what location is it, what need is at stake, some conflict, something they want, will they get it and make a scene, attentive to details in relationship.\n",
    "\n",
    "Can also be color scene, monologues, narrated montages, character-driven moments, flashbacks w/o other players\n",
    "\n",
    "Others players encouraged to offer ideas for input but Establisher has final say on Establishing\n",
    "\n",
    "Role play the scene together.\n",
    "\n",
    "Note that you can narrate action, you don’t need to just role play dialogue\n",
    "\n",
    "During scene others may join in, NPC’s come in, soundtrack, cinematography follow improve yes, and… rule\n",
    "\n",
    "As scene gets to some natural point of resolution, either player Resolves by silently picking and holding up black or white die, or group as whole picks up and hands to player black or white die\n",
    "\n",
    "Black die determines negative outcome for player, white die determines positive outcome for player\n",
    "\n",
    "Scene continues and plays out determined by die\n",
    "\n",
    "Death is ok. player can then flashback, color scene, be an NPC in other scenes and still take their turn\n",
    "\n",
    "Scene ends\n",
    "\n",
    "Now if it's Act one give the die away. If it's Act two, keep the outcome die\n",
    "\n",
    "Closer your die are to even black/white mix means worse final game outcome you will have. So you want all of one color or the other, you don’t want an even mix of dice!\n",
    "\n",
    "When only half dice remain - two scenes per player - Act one finished, then do the Tilt, then go to Act Two\n",
    "\n",
    "TILT\n",
    "\n",
    "Everyone rolls dice in front of them, subtract higher of black/white\n",
    "\n",
    "Highest black and highest white both now determine the Tilt together to add two story complications\n",
    "\n",
    "These 2 players roll unused dice (don’t mix with other dice)\n",
    "\n",
    "Together they consult Tilt table (p.56 rulebook)\n",
    "\n",
    "Other players input but these two highest have final say\n",
    "\n",
    "Write Tilt determination on card\n",
    "\n",
    "Each chooses detail for the other’s category (player can't choose both category and detail)\n",
    "\n",
    "Tilt dice go back to central pool\n",
    "\n",
    "Everyone keeps their dice from Act 1\n",
    "\n",
    "TAKE BREAK\n",
    "\n",
    "Act 2\n",
    "\n",
    "As Act 1 in turns - two scenes each, choose Establish or Resolve as in Act 1\n",
    "\n",
    "Players incorporate Tilt elements!\n",
    "\n",
    "Don't give your die away on resolution - keep your die!\n",
    "\n",
    "Final die from pool is wild - positive or negative outcome\n",
    "\n",
    "AFTERMATH\n",
    "\n",
    "Roll all dice your character has in front of them\n",
    "\n",
    "add them by color - add white together, black together, subtract low from high (now you see why you don’t want a mix of black / white - you want as far from zero as possible!)\n",
    "\n",
    "Consult Aftermath table (p.58 rulebook) for each character\n",
    "\n",
    "Narrate Aftermath as montage - for each die you have, make a “This is [my character] _____” statement, one die for turn in each round, until all die are gone - everyone has taken turns making one statement. Active and about your character."
   ]
  },
  {
   "cell_type": "markdown",
   "id": "79404628",
   "metadata": {},
   "source": [
    "# Imports"
   ]
  },
  {
   "cell_type": "code",
   "execution_count": 95,
   "id": "9a061ee3",
   "metadata": {
    "ExecuteTime": {
     "end_time": "2022-11-22T16:00:58.387145Z",
     "start_time": "2022-11-22T16:00:58.372426Z"
    }
   },
   "outputs": [],
   "source": [
    "from random import choice, randrange\n",
    "import json"
   ]
  },
  {
   "cell_type": "code",
   "execution_count": 96,
   "id": "b2800eab",
   "metadata": {
    "ExecuteTime": {
     "end_time": "2022-11-22T16:00:58.403137Z",
     "start_time": "2022-11-22T16:00:58.390137Z"
    }
   },
   "outputs": [],
   "source": [
    "class Player:\n",
    "    def __init__(self, id, sex, name):\n",
    "        self.id = id\n",
    "        self.sex = sex\n",
    "        self.name = name\n",
    "        # Character detail\n",
    "        self.c_detail = None\n",
    "        # Tilt pile\n",
    "        self.tilt = None\n",
    "        # Relationships\n",
    "        self.r1_character = None\n",
    "        self.r1_category = None\n",
    "        self.r1_nature = None\n",
    "        self.r1_detail_type = None\n",
    "        self.r1_detail_category = None\n",
    "        self.r1_detail = None\n",
    "        self.r2_character = None\n",
    "        self.r2_category = None\n",
    "        self.r2_nature = None\n",
    "        self.r2_detail_type = None\n",
    "        self.r2_detail_category = None\n",
    "        self.r2_detail = None"
   ]
  },
  {
   "cell_type": "markdown",
   "id": "6aa2a0f2",
   "metadata": {},
   "source": [
    "# Settings"
   ]
  },
  {
   "cell_type": "code",
   "execution_count": 97,
   "id": "4e2bbf26",
   "metadata": {
    "ExecuteTime": {
     "end_time": "2022-11-22T16:00:58.419094Z",
     "start_time": "2022-11-22T16:00:58.405099Z"
    }
   },
   "outputs": [],
   "source": [
    "n_players = 4\n",
    "\n",
    "playset = 'fist_city'"
   ]
  },
  {
   "cell_type": "markdown",
   "id": "9f0831fa",
   "metadata": {},
   "source": [
    "# Load Data"
   ]
  },
  {
   "cell_type": "code",
   "execution_count": 98,
   "id": "8c8b5e3a",
   "metadata": {
    "ExecuteTime": {
     "end_time": "2022-11-22T16:00:58.435035Z",
     "start_time": "2022-11-22T16:00:58.421056Z"
    }
   },
   "outputs": [],
   "source": [
    "# Load names\n",
    "with open('corpora/female.txt') as f:\n",
    "    names_f = [line.rstrip('\\n') for line in f]\n",
    "with open('corpora/male.txt') as f:\n",
    "    names_m = [line.rstrip('\\n') for line in f]"
   ]
  },
  {
   "cell_type": "code",
   "execution_count": 99,
   "id": "34eaeb91",
   "metadata": {
    "ExecuteTime": {
     "end_time": "2022-11-22T16:00:58.450976Z",
     "start_time": "2022-11-22T16:00:58.438011Z"
    }
   },
   "outputs": [],
   "source": [
    "# Load tilt table\n",
    "with open('corpora/tilt.json', encoding='utf-8') as f:\n",
    "    tilt = json.load(f)"
   ]
  },
  {
   "cell_type": "code",
   "execution_count": 100,
   "id": "86627d88",
   "metadata": {
    "ExecuteTime": {
     "end_time": "2022-11-22T16:00:58.466931Z",
     "start_time": "2022-11-22T16:00:58.453966Z"
    }
   },
   "outputs": [],
   "source": [
    "# Load playset\n",
    "\n",
    "# Load relationships\n",
    "with open('playsets/'+playset+'/relationships.json', encoding='utf-8') as f:\n",
    "    relationships = json.load(f)\n",
    "    \n",
    "# Load needs\n",
    "with open('playsets/'+playset+'/needs.json', encoding='utf-8') as f:\n",
    "    needs = json.load(f)\n",
    "    \n",
    "# Load locations\n",
    "with open('playsets/'+playset+'/locations.json', encoding='utf-8') as f:\n",
    "    locations = json.load(f)\n",
    "    \n",
    "# Load objects\n",
    "with open('playsets/'+playset+'/objects.json', encoding='utf-8') as f:\n",
    "    objects = json.load(f)"
   ]
  },
  {
   "cell_type": "markdown",
   "id": "6dc51a53",
   "metadata": {},
   "source": [
    "# Setup"
   ]
  },
  {
   "cell_type": "code",
   "execution_count": 101,
   "id": "a32c4b3d",
   "metadata": {
    "ExecuteTime": {
     "end_time": "2022-11-22T16:00:58.482925Z",
     "start_time": "2022-11-22T16:00:58.468960Z"
    }
   },
   "outputs": [],
   "source": [
    "# Initialize players\n",
    "players = []\n",
    "for i in range(n_players):\n",
    "    sex = choice(['M', 'F'])\n",
    "    if sex == 'M':\n",
    "        name = choice(names_m)\n",
    "    else:\n",
    "        name = choice(names_f)\n",
    "    players.append(Player(i, sex, name))"
   ]
  },
  {
   "cell_type": "code",
   "execution_count": 102,
   "id": "f21d9e32",
   "metadata": {
    "ExecuteTime": {
     "end_time": "2022-11-22T16:00:58.498880Z",
     "start_time": "2022-11-22T16:00:58.485884Z"
    }
   },
   "outputs": [],
   "source": [
    "# Roll dice\n",
    "dice = []\n",
    "dice_2 = []\n",
    "for i in range(n_players):\n",
    "    dice.append(('B', randrange(1, 6)))\n",
    "    dice.append(('W', randrange(1, 6)))\n",
    "    dice.append(('B', randrange(1, 6)))\n",
    "    dice.append(('W', randrange(1, 6)))\n",
    "\n",
    "# Sort dice\n",
    "dice.sort(key = lambda x: x[1])"
   ]
  },
  {
   "cell_type": "code",
   "execution_count": 103,
   "id": "71cfd01c",
   "metadata": {
    "ExecuteTime": {
     "end_time": "2022-11-22T16:00:58.514803Z",
     "start_time": "2022-11-22T16:00:58.501838Z"
    }
   },
   "outputs": [],
   "source": [
    "# Create relationships and add details (without replacement, must reload playset to redo)\n",
    "\n",
    "# Locations, objects, and needs to be referenced later\n",
    "r_locations = []\n",
    "r_objects = []\n",
    "r_needs = []\n",
    "\n",
    "# Create relationship with next player\n",
    "for i in range(n_players):\n",
    "    if i+1 != n_players:\n",
    "        players[i].r1_character = players[i+1].name\n",
    "    else:\n",
    "        players[i].r1_character = players[0].name\n",
    "    players[i].r1_category = choice(list(relationships.keys()))\n",
    "    players[i].r1_nature = choice(relationships[players[i].r1_category])\n",
    "    # Add detail\n",
    "    players[i].r1_detail_type = ['Location', 'Need', 'Object'][i % 3]\n",
    "    if players[i].r1_detail_type == 'Location':\n",
    "        players[i].r1_detail_category = choice(list(locations.keys()))\n",
    "        players[i].r1_detail = choice(locations[players[i].r1_detail_category])\n",
    "        r_locations.append(players[i].r1_detail)\n",
    "    elif players[i].r1_detail_type == 'Need':\n",
    "        players[i].r1_detail_category = choice(list(needs.keys()))\n",
    "        players[i].r1_detail = choice(needs[players[i].r1_detail_category])\n",
    "        r_needs.append(players[i].r1_detail_category + players[i].r1_detail)\n",
    "    else: \n",
    "        players[i].r1_detail_category = choice(list(objects.keys()))\n",
    "        players[i].r1_detail = choice(objects[players[i].r1_detail_category])\n",
    "        r_objects.append(players[i].r1_detail)\n",
    "    # Remove chosen relationship and detail from list\n",
    "    relationships[players[i].r1_category].remove(players[i].r1_nature)\n",
    "    \n",
    "# Copy back relationships\n",
    "for i in range(n_players):\n",
    "    if i != 0:\n",
    "        i_back = i-1\n",
    "    else:\n",
    "        i_back = n_players-1\n",
    "    players[i].r2_character = players[i_back].name\n",
    "    players[i].r2_category = players[i_back].r1_category\n",
    "    players[i].r2_nature = players[i_back].r1_nature\n",
    "    players[i].r2_detail_type = players[i_back].r1_detail_type\n",
    "    players[i].r2_detail_category = players[i_back].r1_detail_category\n",
    "    players[i].r2_detail = players[i_back].r1_detail"
   ]
  },
  {
   "cell_type": "code",
   "execution_count": 104,
   "id": "d16899f0",
   "metadata": {
    "ExecuteTime": {
     "end_time": "2022-11-22T16:00:58.530429Z",
     "start_time": "2022-11-22T16:00:58.517795Z"
    }
   },
   "outputs": [
    {
     "name": "stdout",
     "output_type": "stream",
     "text": [
      "Katerina has a \"Militant evangelist and holiday religionist\" dynamic with Helaine. Together, they share a location, the Abandoned summer camp taken over by the Society for Creative Anachronism.\n",
      "Helaine has a \"Senior and junior student, one trying to seduce the other\" dynamic with Virgil. Together, they share a need to learn…who sponsors the Kumite.\n",
      "Virgil has a \"“Reincarnated” religious luminary and handler\" dynamic with Izzy. Together, they share a one of weapons: “Ninja sword” with straight blade and square handguard.\n",
      "Izzy has a \"Pusher and addict\" dynamic with Katerina. Together, they share a location, the Screaming Shadow Ninja Academy.\n"
     ]
    }
   ],
   "source": [
    "for player in players:\n",
    "    text = ''\n",
    "    text += player.name\n",
    "    text += ' has a \"'\n",
    "    text += player.r1_nature\n",
    "    text += '\" dynamic with '\n",
    "    text += player.r1_character\n",
    "    text += '. Together, they share a '\n",
    "    if player.r1_detail_type == 'Need':\n",
    "        text += 'need '\n",
    "        text += player.r1_detail_category.lower()\n",
    "    elif player.r1_detail_type == 'Location':\n",
    "        text += 'location, the '\n",
    "    elif player.r1_detail_type == 'Object':\n",
    "        text += 'one of '\n",
    "        text += player.r1_detail_category.lower()\n",
    "        text += ': '\n",
    "    text += player.r1_detail\n",
    "    text += '.'\n",
    "    print(text)\n",
    "    #print(player.id, player.name, 'has a', player.r2_nature, '(', player.r2_category, ')', 'dynamic with', player.r2_character, '.')"
   ]
  },
  {
   "cell_type": "code",
   "execution_count": 105,
   "id": "c62397fe",
   "metadata": {
    "ExecuteTime": {
     "end_time": "2022-11-22T16:00:58.546495Z",
     "start_time": "2022-11-22T16:00:58.532403Z"
    }
   },
   "outputs": [
    {
     "name": "stdout",
     "output_type": "stream",
     "text": [
      "('B', 1)\n",
      "Katerina is with Izzy at Screaming Shadow Ninja Academy. This scene ends poorly for Katerina. \n",
      "('W', 4)\n",
      "Helaine is with Katerina at Screaming Shadow Ninja Academy. “Ninja sword” with straight blade and square handguard is there. This scene ends well for Helaine. \n",
      "('W', 2)\n",
      "Virgil is with Izzy at Abandoned summer camp taken over by the Society for Creative Anachronism. “Ninja sword” with straight blade and square handguard is there. This scene ends well for Virgil. \n",
      "('B', 3)\n",
      "Izzy is with Katerina at Screaming Shadow Ninja Academy. “Ninja sword” with straight blade and square handguard is there. This scene ends poorly for Izzy. \n"
     ]
    }
   ],
   "source": [
    "# Act 1\n",
    "for player in players:\n",
    "    s_location = choice(r_locations)\n",
    "    s_object = choice(r_objects)\n",
    "    s_outcome = choice(dice)\n",
    "    dice.remove(s_outcome)\n",
    "    dice_2.append(s_outcome)\n",
    "    text = ''\n",
    "    text += player.name\n",
    "    text += ' is with '\n",
    "    i = player.id + choice([-1, 1])\n",
    "    if i > len(players) - 1:\n",
    "        i = 0\n",
    "    elif i == -1:\n",
    "        i = len(players) - 1\n",
    "    text += players[i].name\n",
    "    text += ' at '\n",
    "    text += s_location\n",
    "    text += '. '\n",
    "    if randrange(0, 10) > 3:\n",
    "        text += s_object\n",
    "        text += ' is there. '\n",
    "    if s_outcome[0] == 'W':\n",
    "        text += 'This scene ends well for '\n",
    "    else:\n",
    "        text += 'This scene ends poorly for '\n",
    "    text += player.name\n",
    "    text += '. '\n",
    "    print(s_outcome)\n",
    "    print(text)"
   ]
  },
  {
   "cell_type": "code",
   "execution_count": 106,
   "id": "a9648477",
   "metadata": {
    "ExecuteTime": {
     "end_time": "2022-11-22T16:00:58.561847Z",
     "start_time": "2022-11-22T16:00:58.547438Z"
    }
   },
   "outputs": [
    {
     "name": "stdout",
     "output_type": "stream",
     "text": [
      "Things get complicated when a twist involving guilt occurs: someone panics. \n"
     ]
    }
   ],
   "source": [
    "# The tilt\n",
    "text = ''\n",
    "text += 'Things get complicated when a twist involving '\n",
    "tilt_category = choice(list(tilt.keys()))\n",
    "text += tilt_category.lower()\n",
    "text += ' occurs: '\n",
    "tilt_detail = choice(tilt[tilt_category])\n",
    "text += tilt_detail\n",
    "text += '. '\n",
    "print(text)"
   ]
  },
  {
   "cell_type": "code",
   "execution_count": 107,
   "id": "64228363",
   "metadata": {
    "ExecuteTime": {
     "end_time": "2022-11-22T16:00:58.577809Z",
     "start_time": "2022-11-22T16:00:58.563844Z"
    }
   },
   "outputs": [
    {
     "name": "stdout",
     "output_type": "stream",
     "text": [
      "('W', 5)\n",
      "Katerina is with Helaine at Abandoned summer camp taken over by the Society for Creative Anachronism. This scene ends well for Katerina. \n",
      "('B', 4)\n",
      "Helaine is with Katerina at Screaming Shadow Ninja Academy. “Ninja sword” with straight blade and square handguard is there. This scene ends poorly for Helaine. \n",
      "('W', 3)\n",
      "Virgil is with Izzy at Abandoned summer camp taken over by the Society for Creative Anachronism. “Ninja sword” with straight blade and square handguard is there. This scene ends well for Virgil. \n",
      "('W', 2)\n",
      "Izzy is with Katerina at Screaming Shadow Ninja Academy. “Ninja sword” with straight blade and square handguard is there. This scene ends well for Izzy. \n"
     ]
    }
   ],
   "source": [
    "# Act 2\n",
    "for player in players:\n",
    "    s_location = choice(r_locations)\n",
    "    s_object = choice(r_objects)\n",
    "    s_outcome = choice(dice)\n",
    "    dice.remove(s_outcome)\n",
    "    dice_2.append(s_outcome)\n",
    "    text = ''\n",
    "    text += player.name\n",
    "    text += ' is with '\n",
    "    i = player.id + choice([-1, 1])\n",
    "    if i > len(players) - 1:\n",
    "        i = 0\n",
    "    elif i == -1:\n",
    "        i = len(players) - 1\n",
    "    text += players[i].name\n",
    "    text += ' at '\n",
    "    text += s_location\n",
    "    text += '. '\n",
    "    if randrange(0, 10) > 3:\n",
    "        text += s_object\n",
    "        text += ' is there. '\n",
    "    if s_outcome[0] == 'W':\n",
    "        text += 'This scene ends well for '\n",
    "    else:\n",
    "        text += 'This scene ends poorly for '\n",
    "    text += player.name\n",
    "    text += '. '\n",
    "    print(s_outcome)\n",
    "    print(text)"
   ]
  },
  {
   "cell_type": "code",
   "execution_count": 108,
   "id": "bd689002",
   "metadata": {
    "ExecuteTime": {
     "end_time": "2022-11-22T16:00:58.593764Z",
     "start_time": "2022-11-22T16:00:58.580822Z"
    }
   },
   "outputs": [
    {
     "data": {
      "text/plain": [
       "[('B', 1),\n",
       " ('B', 2),\n",
       " ('B', 3),\n",
       " ('B', 3),\n",
       " ('B', 3),\n",
       " ('W', 4),\n",
       " ('W', 4),\n",
       " ('W', 4)]"
      ]
     },
     "execution_count": 108,
     "metadata": {},
     "output_type": "execute_result"
    }
   ],
   "source": [
    "dice"
   ]
  },
  {
   "cell_type": "code",
   "execution_count": 109,
   "id": "49197bbb",
   "metadata": {
    "ExecuteTime": {
     "end_time": "2022-11-22T16:00:58.609731Z",
     "start_time": "2022-11-22T16:00:58.595758Z"
    }
   },
   "outputs": [
    {
     "data": {
      "text/plain": [
       "[('B', 1),\n",
       " ('W', 4),\n",
       " ('W', 2),\n",
       " ('B', 3),\n",
       " ('W', 5),\n",
       " ('B', 4),\n",
       " ('W', 3),\n",
       " ('W', 2)]"
      ]
     },
     "execution_count": 109,
     "metadata": {},
     "output_type": "execute_result"
    }
   ],
   "source": [
    "dice_2"
   ]
  },
  {
   "cell_type": "code",
   "execution_count": 82,
   "id": "378ca744",
   "metadata": {
    "ExecuteTime": {
     "end_time": "2022-11-22T15:40:51.750847Z",
     "start_time": "2022-11-22T15:40:51.743837Z"
    }
   },
   "outputs": [
    {
     "data": {
      "text/plain": [
       "3"
      ]
     },
     "execution_count": 82,
     "metadata": {},
     "output_type": "execute_result"
    }
   ],
   "source": [
    "s_outcome[1]"
   ]
  },
  {
   "cell_type": "code",
   "execution_count": null,
   "id": "744bb716",
   "metadata": {},
   "outputs": [],
   "source": [
    "# Write a scene"
   ]
  },
  {
   "cell_type": "code",
   "execution_count": 37,
   "id": "6fae05ea",
   "metadata": {
    "ExecuteTime": {
     "end_time": "2022-11-22T15:02:09.704356Z",
     "start_time": "2022-11-22T15:02:09.635543Z"
    }
   },
   "outputs": [
    {
     "data": {
      "text/plain": [
       "[('B', 1),\n",
       " ('W', 1),\n",
       " ('W', 2),\n",
       " ('W', 2),\n",
       " ('W', 2),\n",
       " ('B', 3),\n",
       " ('B', 4),\n",
       " ('B', 4),\n",
       " ('B', 4),\n",
       " ('B', 5),\n",
       " ('W', 5),\n",
       " ('W', 5),\n",
       " ('B', 5),\n",
       " ('W', 5),\n",
       " ('B', 5),\n",
       " ('W', 5)]"
      ]
     },
     "execution_count": 37,
     "metadata": {},
     "output_type": "execute_result"
    }
   ],
   "source": [
    "dice"
   ]
  },
  {
   "cell_type": "code",
   "execution_count": null,
   "id": "9e5c87a3",
   "metadata": {},
   "outputs": [],
   "source": []
  },
  {
   "cell_type": "code",
   "execution_count": null,
   "id": "86650fd0",
   "metadata": {},
   "outputs": [],
   "source": []
  },
  {
   "cell_type": "code",
   "execution_count": 42,
   "id": "13bbfbd4",
   "metadata": {
    "ExecuteTime": {
     "end_time": "2022-11-22T03:51:58.903555Z",
     "start_time": "2022-11-22T03:51:58.895575Z"
    }
   },
   "outputs": [],
   "source": [
    "# Get random object\n",
    "o_category = choice(list(objects.keys()))\n",
    "o_detail = choice(objects[o_category])"
   ]
  },
  {
   "cell_type": "code",
   "execution_count": 43,
   "id": "e1a2cb85",
   "metadata": {
    "ExecuteTime": {
     "end_time": "2022-11-22T03:51:59.234671Z",
     "start_time": "2022-11-22T03:51:59.227687Z"
    }
   },
   "outputs": [
    {
     "data": {
      "text/plain": [
       "'WHISPERS ON THE WIND'"
      ]
     },
     "execution_count": 43,
     "metadata": {},
     "output_type": "execute_result"
    }
   ],
   "source": [
    "o_category"
   ]
  },
  {
   "cell_type": "code",
   "execution_count": 44,
   "id": "1ab6c4de",
   "metadata": {
    "ExecuteTime": {
     "end_time": "2022-11-22T03:51:59.720369Z",
     "start_time": "2022-11-22T03:51:59.700423Z"
    }
   },
   "outputs": [
    {
     "data": {
      "text/plain": [
       "'“I’d rather be judged by twelve than carried by six”'"
      ]
     },
     "execution_count": 44,
     "metadata": {},
     "output_type": "execute_result"
    }
   ],
   "source": [
    "o_detail"
   ]
  },
  {
   "cell_type": "code",
   "execution_count": null,
   "id": "b4943ed2",
   "metadata": {},
   "outputs": [],
   "source": []
  }
 ],
 "metadata": {
  "hide_input": false,
  "kernelspec": {
   "display_name": "Python 3 (ipykernel)",
   "language": "python",
   "name": "python3"
  },
  "language_info": {
   "codemirror_mode": {
    "name": "ipython",
    "version": 3
   },
   "file_extension": ".py",
   "mimetype": "text/x-python",
   "name": "python",
   "nbconvert_exporter": "python",
   "pygments_lexer": "ipython3",
   "version": "3.9.12"
  },
  "toc": {
   "base_numbering": 1,
   "nav_menu": {},
   "number_sections": true,
   "sideBar": true,
   "skip_h1_title": false,
   "title_cell": "Table of Contents",
   "title_sidebar": "Contents",
   "toc_cell": false,
   "toc_position": {},
   "toc_section_display": true,
   "toc_window_display": false
  }
 },
 "nbformat": 4,
 "nbformat_minor": 5
}
