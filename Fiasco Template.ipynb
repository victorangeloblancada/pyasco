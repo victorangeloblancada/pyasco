{
 "cells": [
  {
   "cell_type": "markdown",
   "id": "12047b85",
   "metadata": {
    "heading_collapsed": true
   },
   "source": [
    "# Fiasco"
   ]
  },
  {
   "cell_type": "markdown",
   "id": "b204ce13",
   "metadata": {
    "hidden": true
   },
   "source": [
    "SETUP:\n",
    "\n",
    "Roll dice pool of (two white two black dice) x players\n",
    "\n",
    "Reroll if skewed result - good mix is best\n",
    "\n",
    "Group dice by numbers\n",
    "\n",
    "Player who grew up in smallest town begins, clockwise follows\n",
    "\n",
    "Players have relationship to player to left and right in circle; card between them notes details\n",
    "\n",
    "Repeat for all dice:\n",
    "\n",
    "go to playset relationship: need/location/object tables, spend die from pool to select\n",
    "\n",
    "select die to pick corresponding number top category of relationship/object/need/location then bottom detail\n",
    "\n",
    "place die on card between players you choose, note category then detail as defined\n",
    "\n",
    "next player can further define relationship, establish new relationship, or add need, object, location -- all have to be associated with relationship\n",
    "\n",
    "last die is wild\n",
    "\n",
    "relations have to be between two adjacent players\n",
    "\n",
    "go with obvious, support players who head in a direction\n",
    "\n",
    "(At end of setup once all die spent every relationship card will have two dice on it)\n",
    "\n",
    "Must be at least one Need, one Location, and one Object in play, but don't have to have Object/Need/ Location for every relationship\n",
    "\n",
    "Location/need/object are shared in a relationship and both characters driven by it\n",
    "\n",
    "Discuss relationships and identities, who is who, choose names, create characters - not too deep though!\n",
    "\n",
    "Put all dice back in central pile\n",
    "\n",
    "ACT ONE\n",
    "\n",
    "Emphasize that flexibility is ok and disregarding some details is ok - these are prompts not requirements\n",
    "\n",
    "Turns clockwise from person from smallest town\n",
    "\n",
    "On your turn your character is Spotlight\n",
    "\n",
    "Spotlight player first choses to Establish or Resolve that scene:\n",
    "\n",
    "Establish scene yourself - others together Resolve it determining if goes positive / negative for your character\n",
    "\n",
    "or\n",
    "\n",
    "Everyone else Establishes scene and you Resolve it determining outcome is positive / negative for your character\n",
    "\n",
    "Spotlight character must be in that player’s turn scene\n",
    "\n",
    "Establishing scene = who is there (other player characters), what location is it, what need is at stake, some conflict, something they want, will they get it and make a scene, attentive to details in relationship.\n",
    "\n",
    "Can also be color scene, monologues, narrated montages, character-driven moments, flashbacks w/o other players\n",
    "\n",
    "Others players encouraged to offer ideas for input but Establisher has final say on Establishing\n",
    "\n",
    "Role play the scene together.\n",
    "\n",
    "Note that you can narrate action, you don’t need to just role play dialogue\n",
    "\n",
    "During scene others may join in, NPC’s come in, soundtrack, cinematography follow improve yes, and… rule\n",
    "\n",
    "As scene gets to some natural point of resolution, either player Resolves by silently picking and holding up black or white die, or group as whole picks up and hands to player black or white die\n",
    "\n",
    "Black die determines negative outcome for player, white die determines positive outcome for player\n",
    "\n",
    "Scene continues and plays out determined by die\n",
    "\n",
    "Death is ok. player can then flashback, color scene, be an NPC in other scenes and still take their turn\n",
    "\n",
    "Scene ends\n",
    "\n",
    "Now if it's Act one give the die away. If it's Act two, keep the outcome die\n",
    "\n",
    "Closer your die are to even black/white mix means worse final game outcome you will have. So you want all of one color or the other, you don’t want an even mix of dice!\n",
    "\n",
    "When only half dice remain - two scenes per player - Act one finished, then do the Tilt, then go to Act Two\n",
    "\n",
    "TILT\n",
    "\n",
    "Everyone rolls dice in front of them, subtract higher of black/white\n",
    "\n",
    "Highest black and highest white both now determine the Tilt together to add two story complications\n",
    "\n",
    "These 2 players roll unused dice (don’t mix with other dice)\n",
    "\n",
    "Together they consult Tilt table (p.56 rulebook)\n",
    "\n",
    "Other players input but these two highest have final say\n",
    "\n",
    "Write Tilt determination on card\n",
    "\n",
    "Each chooses detail for the other’s category (player can't choose both category and detail)\n",
    "\n",
    "Tilt dice go back to central pool\n",
    "\n",
    "Everyone keeps their dice from Act 1\n",
    "\n",
    "TAKE BREAK\n",
    "\n",
    "Act 2\n",
    "\n",
    "As Act 1 in turns - two scenes each, choose Establish or Resolve as in Act 1\n",
    "\n",
    "Players incorporate Tilt elements!\n",
    "\n",
    "Don't give your die away on resolution - keep your die!\n",
    "\n",
    "Final die from pool is wild - positive or negative outcome\n",
    "\n",
    "AFTERMATH\n",
    "\n",
    "Roll all dice your character has in front of them\n",
    "\n",
    "add them by color - add white together, black together, subtract low from high (now you see why you don’t want a mix of black / white - you want as far from zero as possible!)\n",
    "\n",
    "Consult Aftermath table (p.58 rulebook) for each character\n",
    "\n",
    "Narrate Aftermath as montage - for each die you have, make a “This is [my character] _____” statement, one die for turn in each round, until all die are gone - everyone has taken turns making one statement. Active and about your character."
   ]
  },
  {
   "cell_type": "markdown",
   "id": "79404628",
   "metadata": {},
   "source": [
    "# Imports"
   ]
  },
  {
   "cell_type": "code",
   "execution_count": 19,
   "id": "9a061ee3",
   "metadata": {
    "ExecuteTime": {
     "end_time": "2022-11-22T03:03:06.332978Z",
     "start_time": "2022-11-22T03:03:06.315030Z"
    }
   },
   "outputs": [],
   "source": [
    "from random import choice, randrange\n",
    "import json"
   ]
  },
  {
   "cell_type": "code",
   "execution_count": 127,
   "id": "b2800eab",
   "metadata": {
    "ExecuteTime": {
     "end_time": "2022-11-22T04:52:56.411812Z",
     "start_time": "2022-11-22T04:52:56.395856Z"
    }
   },
   "outputs": [],
   "source": [
    "class Player:\n",
    "    def __init__(self, id, sex, name):\n",
    "        self.id = id\n",
    "        self.sex = sex\n",
    "        self.name = name\n",
    "        # Character detail\n",
    "        self.c_detail = None\n",
    "        # Tilt pile\n",
    "        self.tilt = None\n",
    "        # Relationships\n",
    "        self.r1_character = None\n",
    "        self.r1_category = None\n",
    "        self.r1_nature = None\n",
    "        self.r1_detail_type = None\n",
    "        self.r1_detail_category = None\n",
    "        self.r1_detail = None\n",
    "        self.r2_character = None\n",
    "        self.r2_category = None\n",
    "        self.r2_nature = None\n",
    "        self.r2_detail_type = None\n",
    "        self.r2_detail_category = None\n",
    "        self.r2_detail = None"
   ]
  },
  {
   "cell_type": "markdown",
   "id": "6aa2a0f2",
   "metadata": {},
   "source": [
    "# Settings"
   ]
  },
  {
   "cell_type": "code",
   "execution_count": 122,
   "id": "4e2bbf26",
   "metadata": {
    "ExecuteTime": {
     "end_time": "2022-11-22T04:50:54.537656Z",
     "start_time": "2022-11-22T04:50:54.531658Z"
    }
   },
   "outputs": [],
   "source": [
    "n_players = 4\n",
    "\n",
    "playset = 'fist_city'"
   ]
  },
  {
   "cell_type": "markdown",
   "id": "9f0831fa",
   "metadata": {},
   "source": [
    "# Load Data"
   ]
  },
  {
   "cell_type": "code",
   "execution_count": 123,
   "id": "8c8b5e3a",
   "metadata": {
    "ExecuteTime": {
     "end_time": "2022-11-22T04:50:55.366423Z",
     "start_time": "2022-11-22T04:50:55.330519Z"
    }
   },
   "outputs": [],
   "source": [
    "# Load names\n",
    "with open('corpora/female.txt') as f:\n",
    "    names_f = [line.rstrip('\\n') for line in f]\n",
    "with open('corpora/male.txt') as f:\n",
    "    names_m = [line.rstrip('\\n') for line in f]"
   ]
  },
  {
   "cell_type": "code",
   "execution_count": 124,
   "id": "86627d88",
   "metadata": {
    "ExecuteTime": {
     "end_time": "2022-11-22T04:50:55.726460Z",
     "start_time": "2022-11-22T04:50:55.705516Z"
    }
   },
   "outputs": [],
   "source": [
    "# Load playset\n",
    "\n",
    "# Load relationships\n",
    "with open('playsets/'+playset+'/relationships.json', encoding='utf-8') as f:\n",
    "    relationships = json.load(f)\n",
    "    \n",
    "# Load needs\n",
    "with open('playsets/'+playset+'/needs.json', encoding='utf-8') as f:\n",
    "    needs = json.load(f)\n",
    "    \n",
    "# Load locations\n",
    "with open('playsets/'+playset+'/locations.json', encoding='utf-8') as f:\n",
    "    locations = json.load(f)\n",
    "    \n",
    "# Load objects\n",
    "with open('playsets/'+playset+'/objects.json', encoding='utf-8') as f:\n",
    "    objects = json.load(f)"
   ]
  },
  {
   "cell_type": "markdown",
   "id": "6dc51a53",
   "metadata": {},
   "source": [
    "# Setup"
   ]
  },
  {
   "cell_type": "code",
   "execution_count": 125,
   "id": "a32c4b3d",
   "metadata": {
    "ExecuteTime": {
     "end_time": "2022-11-22T04:50:57.923542Z",
     "start_time": "2022-11-22T04:50:57.915562Z"
    }
   },
   "outputs": [],
   "source": [
    "# Initialize players\n",
    "players = []\n",
    "for i in range(n_players):\n",
    "    sex = choice(['M', 'F'])\n",
    "    if sex == 'M':\n",
    "        name = choice(names_m)\n",
    "    else:\n",
    "        name = choice(names_f)\n",
    "    players.append(Player(i, sex, name))"
   ]
  },
  {
   "cell_type": "code",
   "execution_count": 126,
   "id": "f21d9e32",
   "metadata": {
    "ExecuteTime": {
     "end_time": "2022-11-22T04:50:58.266365Z",
     "start_time": "2022-11-22T04:50:58.251408Z"
    }
   },
   "outputs": [],
   "source": [
    "# Roll dice\n",
    "dice = []\n",
    "for i in range(n_players):\n",
    "    dice.append(('B', randrange(1, 6)))\n",
    "    dice.append(('W', randrange(1, 6)))\n",
    "    dice.append(('B', randrange(1, 6)))\n",
    "    dice.append(('W', randrange(1, 6)))\n",
    "\n",
    "# Sort dice\n",
    "dice.sort(key = lambda x: x[1])"
   ]
  },
  {
   "cell_type": "code",
   "execution_count": 133,
   "id": "71cfd01c",
   "metadata": {
    "ExecuteTime": {
     "end_time": "2022-11-22T04:56:12.043446Z",
     "start_time": "2022-11-22T04:56:12.004553Z"
    }
   },
   "outputs": [],
   "source": [
    "# Create relationships and add details (without replacement, must reload playset to redo)\n",
    "\n",
    "# Create relationship with next player\n",
    "for i in range(n_players):\n",
    "    if i+1 != n_players:\n",
    "        players[i].r1_character = players[i+1].name\n",
    "    else:\n",
    "        players[i].r1_character = players[0].name\n",
    "    players[i].r1_category = choice(list(relationships.keys()))\n",
    "    players[i].r1_nature = choice(relationships[players[i].r1_category])\n",
    "    # Add detail\n",
    "    players[i].r1_detail_type = choice(['Location', 'Object'])\n",
    "    if players[i].r1_detail_type == 'Location':\n",
    "        players[i].r1_detail_category = choice(list(locations.keys()))\n",
    "        players[i].r1_detail = choice(locations[players[i].r1_detail_category])\n",
    "    else: \n",
    "        players[i].r1_detail_category = choice(list(objects.keys()))\n",
    "        players[i].r1_detail = choice(objects[players[i].r1_detail_category])\n",
    "    # Remove chosen relationship and detail from list\n",
    "    relationships[players[i].r1_category].remove(players[i].r1_nature)\n",
    "    \n",
    "# Copy back relationships\n",
    "for i in range(n_players):\n",
    "    if i != 0:\n",
    "        i_back = i-1\n",
    "    else:\n",
    "        i_back = n_players-1\n",
    "    players[i].r2_character = players[i_back].name\n",
    "    players[i].r2_category = players[i_back].r1_category\n",
    "    players[i].r2_nature = players[i_back].r1_nature\n",
    "    players[i].r2_detail_type = players[i_back].r1_detail_type\n",
    "    players[i].r2_detail_category = players[i_back].r1_detail_category\n",
    "    players[i].r2_detail = players[i_back].r1_detail"
   ]
  },
  {
   "cell_type": "code",
   "execution_count": 132,
   "id": "d16899f0",
   "metadata": {
    "ExecuteTime": {
     "end_time": "2022-11-22T04:55:09.828394Z",
     "start_time": "2022-11-22T04:55:09.816397Z"
    }
   },
   "outputs": [
    {
     "name": "stdout",
     "output_type": "stream",
     "text": [
      "0 Ingeberg has a Divorced ( FAMILY ) dynamic with Erwin involving a GARMENTS Sexy ninja costume from Halloween City\n",
      "0 Ingeberg has a Bureau of Alcohol, Tobacco, Firearms & Explosives desk jockeys ( WORK ) dynamic with Emmanuel .\n",
      "1 Erwin has a Gang leader and traitor from the Scorpions ( CRIME ) dynamic with Jud involving a WHISPERS ON THE WIND “I’d rather be judged by twelve than carried by six”\n",
      "1 Erwin has a Divorced ( FAMILY ) dynamic with Ingeberg .\n",
      "2 Jud has a Defrocked cleric and congregant who exposed their crimes ( RELIGION ) dynamic with Emmanuel involving a WEAPONS Plank with a nail in it\n",
      "2 Jud has a Gang leader and traitor from the Scorpions ( CRIME ) dynamic with Erwin .\n",
      "3 Emmanuel has a Bureau of Alcohol, Tobacco, Firearms & Explosives desk jockeys ( WORK ) dynamic with Ingeberg involving a TRAINING REGIMENS Smartphone app that’s like Tinder, but for fighting\n",
      "3 Emmanuel has a Defrocked cleric and congregant who exposed their crimes ( RELIGION ) dynamic with Jud .\n"
     ]
    }
   ],
   "source": [
    "for player in players:\n",
    "    print(player.id, player.name, 'has a', player.r1_nature, '(', player.r1_category, ')', 'dynamic with', player.r1_character, 'involving a', player.r1_detail_category, player.r1_detail)\n",
    "    print(player.id, player.name, 'has a', player.r2_nature, '(', player.r2_category, ')', 'dynamic with', player.r2_character, '.')"
   ]
  },
  {
   "cell_type": "code",
   "execution_count": null,
   "id": "744bb716",
   "metadata": {},
   "outputs": [],
   "source": []
  },
  {
   "cell_type": "code",
   "execution_count": null,
   "id": "9e5c87a3",
   "metadata": {},
   "outputs": [],
   "source": []
  },
  {
   "cell_type": "code",
   "execution_count": null,
   "id": "86650fd0",
   "metadata": {},
   "outputs": [],
   "source": []
  },
  {
   "cell_type": "code",
   "execution_count": 42,
   "id": "13bbfbd4",
   "metadata": {
    "ExecuteTime": {
     "end_time": "2022-11-22T03:51:58.903555Z",
     "start_time": "2022-11-22T03:51:58.895575Z"
    }
   },
   "outputs": [],
   "source": [
    "# Get random object\n",
    "o_category = choice(list(objects.keys()))\n",
    "o_detail = choice(objects[o_category])"
   ]
  },
  {
   "cell_type": "code",
   "execution_count": 43,
   "id": "e1a2cb85",
   "metadata": {
    "ExecuteTime": {
     "end_time": "2022-11-22T03:51:59.234671Z",
     "start_time": "2022-11-22T03:51:59.227687Z"
    }
   },
   "outputs": [
    {
     "data": {
      "text/plain": [
       "'WHISPERS ON THE WIND'"
      ]
     },
     "execution_count": 43,
     "metadata": {},
     "output_type": "execute_result"
    }
   ],
   "source": [
    "o_category"
   ]
  },
  {
   "cell_type": "code",
   "execution_count": 44,
   "id": "1ab6c4de",
   "metadata": {
    "ExecuteTime": {
     "end_time": "2022-11-22T03:51:59.720369Z",
     "start_time": "2022-11-22T03:51:59.700423Z"
    }
   },
   "outputs": [
    {
     "data": {
      "text/plain": [
       "'“I’d rather be judged by twelve than carried by six”'"
      ]
     },
     "execution_count": 44,
     "metadata": {},
     "output_type": "execute_result"
    }
   ],
   "source": [
    "o_detail"
   ]
  },
  {
   "cell_type": "code",
   "execution_count": null,
   "id": "b4943ed2",
   "metadata": {},
   "outputs": [],
   "source": []
  }
 ],
 "metadata": {
  "hide_input": false,
  "kernelspec": {
   "display_name": "Python 3",
   "language": "python",
   "name": "python3"
  },
  "language_info": {
   "codemirror_mode": {
    "name": "ipython",
    "version": 3
   },
   "file_extension": ".py",
   "mimetype": "text/x-python",
   "name": "python",
   "nbconvert_exporter": "python",
   "pygments_lexer": "ipython3",
   "version": "3.8.8"
  },
  "toc": {
   "base_numbering": 1,
   "nav_menu": {},
   "number_sections": true,
   "sideBar": true,
   "skip_h1_title": false,
   "title_cell": "Table of Contents",
   "title_sidebar": "Contents",
   "toc_cell": false,
   "toc_position": {},
   "toc_section_display": true,
   "toc_window_display": false
  }
 },
 "nbformat": 4,
 "nbformat_minor": 5
}
