{
 "cells": [
  {
   "cell_type": "markdown",
   "id": "12047b85",
   "metadata": {
    "heading_collapsed": true
   },
   "source": [
    "# Fiasco"
   ]
  },
  {
   "cell_type": "markdown",
   "id": "b204ce13",
   "metadata": {
    "hidden": true
   },
   "source": [
    "SETUP:\n",
    "\n",
    "Roll dice pool of (two white two black dice) x players\n",
    "\n",
    "Reroll if skewed result - good mix is best\n",
    "\n",
    "Group dice by numbers\n",
    "\n",
    "Player who grew up in smallest town begins, clockwise follows\n",
    "\n",
    "Players have relationship to player to left and right in circle; card between them notes details\n",
    "\n",
    "Repeat for all dice:\n",
    "\n",
    "go to playset relationship: need/location/object tables, spend die from pool to select\n",
    "\n",
    "select die to pick corresponding number top category of relationship/object/need/location then bottom detail\n",
    "\n",
    "place die on card between players you choose, note category then detail as defined\n",
    "\n",
    "next player can further define relationship, establish new relationship, or add need, object, location -- all have to be associated with relationship\n",
    "\n",
    "last die is wild\n",
    "\n",
    "relations have to be between two adjacent players\n",
    "\n",
    "go with obvious, support players who head in a direction\n",
    "\n",
    "(At end of setup once all die spent every relationship card will have two dice on it)\n",
    "\n",
    "Must be at least one Need, one Location, and one Object in play, but don't have to have Object/Need/ Location for every relationship\n",
    "\n",
    "Location/need/object are shared in a relationship and both characters driven by it\n",
    "\n",
    "Discuss relationships and identities, who is who, choose names, create characters - not too deep though!\n",
    "\n",
    "Put all dice back in central pile\n",
    "\n",
    "ACT ONE\n",
    "\n",
    "Emphasize that flexibility is ok and disregarding some details is ok - these are prompts not requirements\n",
    "\n",
    "Turns clockwise from person from smallest town\n",
    "\n",
    "On your turn your character is Spotlight\n",
    "\n",
    "Spotlight player first choses to Establish or Resolve that scene:\n",
    "\n",
    "Establish scene yourself - others together Resolve it determining if goes positive / negative for your character\n",
    "\n",
    "or\n",
    "\n",
    "Everyone else Establishes scene and you Resolve it determining outcome is positive / negative for your character\n",
    "\n",
    "Spotlight character must be in that player’s turn scene\n",
    "\n",
    "Establishing scene = who is there (other player characters), what location is it, what need is at stake, some conflict, something they want, will they get it and make a scene, attentive to details in relationship.\n",
    "\n",
    "Can also be color scene, monologues, narrated montages, character-driven moments, flashbacks w/o other players\n",
    "\n",
    "Others players encouraged to offer ideas for input but Establisher has final say on Establishing\n",
    "\n",
    "Role play the scene together.\n",
    "\n",
    "Note that you can narrate action, you don’t need to just role play dialogue\n",
    "\n",
    "During scene others may join in, NPC’s come in, soundtrack, cinematography follow improve yes, and… rule\n",
    "\n",
    "As scene gets to some natural point of resolution, either player Resolves by silently picking and holding up black or white die, or group as whole picks up and hands to player black or white die\n",
    "\n",
    "Black die determines negative outcome for player, white die determines positive outcome for player\n",
    "\n",
    "Scene continues and plays out determined by die\n",
    "\n",
    "Death is ok. player can then flashback, color scene, be an NPC in other scenes and still take their turn\n",
    "\n",
    "Scene ends\n",
    "\n",
    "Now if it's Act one give the die away. If it's Act two, keep the outcome die\n",
    "\n",
    "Closer your die are to even black/white mix means worse final game outcome you will have. So you want all of one color or the other, you don’t want an even mix of dice!\n",
    "\n",
    "When only half dice remain - two scenes per player - Act one finished, then do the Tilt, then go to Act Two\n",
    "\n",
    "TILT\n",
    "\n",
    "Everyone rolls dice in front of them, subtract higher of black/white\n",
    "\n",
    "Highest black and highest white both now determine the Tilt together to add two story complications\n",
    "\n",
    "These 2 players roll unused dice (don’t mix with other dice)\n",
    "\n",
    "Together they consult Tilt table (p.56 rulebook)\n",
    "\n",
    "Other players input but these two highest have final say\n",
    "\n",
    "Write Tilt determination on card\n",
    "\n",
    "Each chooses detail for the other’s category (player can't choose both category and detail)\n",
    "\n",
    "Tilt dice go back to central pool\n",
    "\n",
    "Everyone keeps their dice from Act 1\n",
    "\n",
    "TAKE BREAK\n",
    "\n",
    "Act 2\n",
    "\n",
    "As Act 1 in turns - two scenes each, choose Establish or Resolve as in Act 1\n",
    "\n",
    "Players incorporate Tilt elements!\n",
    "\n",
    "Don't give your die away on resolution - keep your die!\n",
    "\n",
    "Final die from pool is wild - positive or negative outcome\n",
    "\n",
    "AFTERMATH\n",
    "\n",
    "Roll all dice your character has in front of them\n",
    "\n",
    "add them by color - add white together, black together, subtract low from high (now you see why you don’t want a mix of black / white - you want as far from zero as possible!)\n",
    "\n",
    "Consult Aftermath table (p.58 rulebook) for each character\n",
    "\n",
    "Narrate Aftermath as montage - for each die you have, make a “This is [my character] _____” statement, one die for turn in each round, until all die are gone - everyone has taken turns making one statement. Active and about your character."
   ]
  },
  {
   "cell_type": "markdown",
   "id": "79404628",
   "metadata": {
    "heading_collapsed": true
   },
   "source": [
    "# Imports"
   ]
  },
  {
   "cell_type": "code",
   "execution_count": 1,
   "id": "9a061ee3",
   "metadata": {
    "ExecuteTime": {
     "end_time": "2022-11-23T07:11:55.441475Z",
     "start_time": "2022-11-23T07:11:55.428513Z"
    },
    "hidden": true
   },
   "outputs": [],
   "source": [
    "from random import choice, randrange\n",
    "import json"
   ]
  },
  {
   "cell_type": "code",
   "execution_count": 2,
   "id": "b2800eab",
   "metadata": {
    "ExecuteTime": {
     "end_time": "2022-11-23T07:11:55.457434Z",
     "start_time": "2022-11-23T07:11:55.444471Z"
    },
    "hidden": true
   },
   "outputs": [],
   "source": [
    "class Player:\n",
    "    def __init__(self, id, sex, name):\n",
    "        self.id = id\n",
    "        self.sex = sex\n",
    "        self.name = name\n",
    "        # Character detail\n",
    "        self.c_detail = None\n",
    "        # Tilt pile\n",
    "        self.tilt = None\n",
    "        # Relationships\n",
    "        self.r1_character = None\n",
    "        self.r1_category = None\n",
    "        self.r1_nature = None\n",
    "        self.r1_detail_type = None\n",
    "        self.r1_detail_category = None\n",
    "        self.r1_detail = None\n",
    "        self.r2_character = None\n",
    "        self.r2_category = None\n",
    "        self.r2_nature = None\n",
    "        self.r2_detail_type = None\n",
    "        self.r2_detail_category = None\n",
    "        self.r2_detail = None\n",
    "        # Aftermath total\n",
    "        self.aftermath = 0"
   ]
  },
  {
   "cell_type": "code",
   "execution_count": 3,
   "id": "ca5189b0",
   "metadata": {
    "ExecuteTime": {
     "end_time": "2022-11-23T07:11:55.473392Z",
     "start_time": "2022-11-23T07:11:55.459429Z"
    },
    "hidden": true
   },
   "outputs": [],
   "source": [
    "aftermath_dict = {\n",
    "    18: 'Fan-fucking-tastic. It\\'s fat times ahead, safe and secure. That thing that would make your life better? Oh, you got it, absolutely, and then some. And then some more. Enjoy it!',\n",
    "    17: 'Fan-fucking-tastic. It\\'s fat times ahead, safe and secure. That thing that would make your life better? Oh, you got it, absolutely, and then some. And then some more. Enjoy it!',\n",
    "    16: 'Fan-fucking-tastic. It\\'s fat times ahead, safe and secure. That thing that would make your life better? Oh, you got it, absolutely, and then some. And then some more. Enjoy it!',\n",
    "    15: 'Fan-fucking-tastic. It\\'s fat times ahead, safe and secure. That thing that would make your life better? Oh, you got it, absolutely, and then some. And then some more. Enjoy it!',\n",
    "    14: 'Fan-fucking-tastic. It\\'s fat times ahead, safe and secure. That thing that would make your life better? Oh, you got it, absolutely, and then some. And then some more. Enjoy it!',\n",
    "    13: 'Fan-fucking-tastic. It\\'s fat times ahead, safe and secure. That thing that would make your life better? Oh, you got it, absolutely, and then some. And then some more. Enjoy it!',\n",
    "    12: 'Not too shabby. You\\'ve made it out with your dignity intact, through some fluke. There might even be a little profit, or self respect, or something. Time to throw a little party for all your friends.',\n",
    "    11: 'Not too shabby. You\\'ve made it out with your dignity intact, through some fluke. There might even be a little profit, or self respect, or something. Time to throw a little party for all your friends.',\n",
    "    10: 'Not too shabby. You\\'ve made it out with your dignity intact, through some fluke. There might even be a little profit, or self respect, or something. Time to throw a little party for all your friends.',\n",
    "    9: 'Nothing to crow about. Not better, but not way worse, either. Maybe the car is wrecked, or your spouse is leaving you, or there\\'s a court date. But compared to some of the other people you know...',\n",
    "    8: 'Nothing to crow about. Not better, but not way worse, either. Maybe the car is wrecked, or your spouse is leaving you, or there\\'s a court date. But compared to some of the other people you know...',\n",
    "    7: 'Weak. Hey, you\\'re busted, beat, and broke down, but at least you\\'ve learned a lesson about human greed and frailty, right? it\\'ll serve you well in prison, which is probably where you are headed.',\n",
    "    6: 'Weak. Hey, you\\'re busted, beat, and broke down, but at least you\\'ve learned a lesson about human greed and frailty, right? it\\'ll serve you well in prison, which is probably where you are headed.',\n",
    "    5: 'Miserable. You are humiliated in a big, public way, and whatever reputation you once had is now in dirty pieces all around you. You\\'ll never think of these days without a shudder of horror at your own aggressive stupidity.',\n",
    "    4: 'Bitter. You know what it\\'s like to be utterly crushed, casually brought low, forced to eat your own words and stand mute and powerless before your enemies. They gloat, and you are helpless.',\n",
    "    3: 'Grim. The stress and trauma from your little adventure are going to haunt you forever - bits of your soul are destroyed and you are missing a piece or two. In a few years children are going to cry when you get to close. All your plans have ended in complete ruin.',\n",
    "    2: 'Merciless. You might not be dead on the outside but you sure as hell are dead on the inside. The emotional or mental wounds you have suffered will never heal. The future is a brick wall.',\n",
    "    1: 'You are certainly dead, probably from a self inflicted wound. People you care about are also probably dead, maybe through your own stupid, ugly failure. To say that you fucked up is an insult to fucked-upedness. You have redefined the term.',\n",
    "    0: 'The worst thing in the universe. This probably doesn\\'t include death, since death would be way better than whatever this is. Be creative and don\\'t settle for the first \"worst\" thing that comes to mind - there\\'s something darker, more awful, more wretched in there somewhere.',\n",
    "    -1: 'Horrible. You are probably dead. Other people, probably innocent people, are as well. There is no justice, there is no mercy, everything is utterly, painfully screwed and it all - all of it - your fault.',\n",
    "    -2: 'Brutal. Wounds that will never heal, for starters; stuff sawed off, blown off, or burned off on your way to grand, ignominious failure. Kiss whatever you care about goodbye. You may die, but you may not.',\n",
    "    -3: 'Harsh. Shit-in-a-bag harsh, a-lifetime-of-medication harsh. A big black cloud of hurt is going to rain all over you. The things you need to happen are not going to, simple as that.',\n",
    "    -4: 'Savage. Savage as in \"something inside is broken or mashed.\" Maybe you\\'ve got a permanent limp and a bad reputation. Plus, you totally fail.',\n",
    "    -5: 'Rough. You are getting whipped like a rented mule, for started, and you will remember this episode for all your diminished day. The lesson you learn will be profound, lingering, and painful.',\n",
    "    -6: 'Pathetic. You\\'ll suffer, oh dear God you will suffer, and everyone will know of your malfeasance, your stupidity, you lack of common sense and decency. You\\'re probably going to be locked up, too.',\n",
    "    -7: 'Pathetic. You\\'ll suffer, oh dear God you will suffer, and everyone will know of your malfeasance, your stupidity, you lack of common sense and decency. You\\'re probably going to be locked up, too.',\n",
    "    -8: 'Nothing to write home about. Back to where you started. Maybe sore and broke, just like yesterday and tomorrow. You probably learned something though, like how to do it right next time. Next time...',\n",
    "    -9: 'Nothing to write home about. Back to where you started. Maybe sore and broke, just like yesterday and tomorrow. You probably learned something though, like how to do it right next time. Next time...',\n",
    "    -10: 'Pretty good. All things considered, you\\'re coming out of this smelling like a rose. You\\'re a little better off - maybe you got the girl, or maybe you just didn\\'t get caught.',\n",
    "    -11: 'Pretty good. All things considered, you\\'re coming out of this smelling like a rose. You\\'re a little better off - maybe you got the girl, or maybe you just didn\\'t get caught.',\n",
    "    -12: 'Pretty good. All things considered, you\\'re coming out of this smelling like a rose. You\\'re a little better off - maybe you got the girl, or maybe you just didn\\'t get caught.',\n",
    "    -13: 'Awesome. Insanely great. You will emerge not only unscathed, but if there\\'s a guy involved, he\\'s dropping his drawers. You might even get rich off this caper, who knows? Time for a new ride.',\n",
    "    -14: 'Awesome. Insanely great. You will emerge not only unscathed, but if there\\'s a guy involved, he\\'s dropping his drawers. You might even get rich off this caper, who knows? Time for a new ride.',\n",
    "    -15: 'Awesome. Insanely great. You will emerge not only unscathed, but if there\\'s a guy involved, he\\'s dropping his drawers. You might even get rich off this caper, who knows? Time for a new ride.',\n",
    "    -16: 'Awesome. Insanely great. You will emerge not only unscathed, but if there\\'s a guy involved, he\\'s dropping his drawers. You might even get rich off this caper, who knows? Time for a new ride.',\n",
    "    -17: 'Awesome. Insanely great. You will emerge not only unscathed, but if there\\'s a guy involved, he\\'s dropping his drawers. You might even get rich off this caper, who knows? Time for a new ride.',\n",
    "    -18: 'Awesome. Insanely great. You will emerge not only unscathed, but if there\\'s a guy involved, he\\'s dropping his drawers. You might even get rich off this caper, who knows? Time for a new ride.'\n",
    "}"
   ]
  },
  {
   "cell_type": "markdown",
   "id": "6aa2a0f2",
   "metadata": {},
   "source": [
    "# Settings"
   ]
  },
  {
   "cell_type": "code",
   "execution_count": 4,
   "id": "4e2bbf26",
   "metadata": {
    "ExecuteTime": {
     "end_time": "2022-11-23T07:11:55.489349Z",
     "start_time": "2022-11-23T07:11:55.476384Z"
    }
   },
   "outputs": [],
   "source": [
    "n_players = 5\n",
    "\n",
    "playset = 'fist_city'\n",
    "#playset = 'danger_zone'"
   ]
  },
  {
   "cell_type": "markdown",
   "id": "9f0831fa",
   "metadata": {},
   "source": [
    "# Load Data"
   ]
  },
  {
   "cell_type": "code",
   "execution_count": 5,
   "id": "8c8b5e3a",
   "metadata": {
    "ExecuteTime": {
     "end_time": "2022-11-23T07:11:55.504309Z",
     "start_time": "2022-11-23T07:11:55.491343Z"
    }
   },
   "outputs": [],
   "source": [
    "# Load names\n",
    "with open('corpora/female.txt') as f:\n",
    "    names_f = [line.rstrip('\\n') for line in f]\n",
    "with open('corpora/male.txt') as f:\n",
    "    names_m = [line.rstrip('\\n') for line in f]"
   ]
  },
  {
   "cell_type": "code",
   "execution_count": 6,
   "id": "34eaeb91",
   "metadata": {
    "ExecuteTime": {
     "end_time": "2022-11-23T07:11:55.520266Z",
     "start_time": "2022-11-23T07:11:55.508298Z"
    }
   },
   "outputs": [],
   "source": [
    "# Load tilt table\n",
    "with open('corpora/tilt.json', encoding='utf-8') as f:\n",
    "    tilt = json.load(f)"
   ]
  },
  {
   "cell_type": "code",
   "execution_count": 7,
   "id": "86627d88",
   "metadata": {
    "ExecuteTime": {
     "end_time": "2022-11-23T07:11:55.552181Z",
     "start_time": "2022-11-23T07:11:55.527248Z"
    }
   },
   "outputs": [],
   "source": [
    "# Load playset\n",
    "\n",
    "# Load relationships\n",
    "with open('playsets/'+playset+'/relationships.json', encoding='utf-8') as f:\n",
    "    relationships = json.load(f)\n",
    "    \n",
    "# Load needs\n",
    "with open('playsets/'+playset+'/needs.json', encoding='utf-8') as f:\n",
    "    needs = json.load(f)\n",
    "    \n",
    "# Load locations\n",
    "with open('playsets/'+playset+'/locations.json', encoding='utf-8') as f:\n",
    "    locations = json.load(f)\n",
    "    \n",
    "# Load objects\n",
    "with open('playsets/'+playset+'/objects.json', encoding='utf-8') as f:\n",
    "    objects = json.load(f)"
   ]
  },
  {
   "cell_type": "markdown",
   "id": "6dc51a53",
   "metadata": {},
   "source": [
    "# Setup"
   ]
  },
  {
   "cell_type": "code",
   "execution_count": 8,
   "id": "a32c4b3d",
   "metadata": {
    "ExecuteTime": {
     "end_time": "2022-11-23T07:11:55.568138Z",
     "start_time": "2022-11-23T07:11:55.560164Z"
    }
   },
   "outputs": [],
   "source": [
    "# Initialize players\n",
    "players = []\n",
    "for i in range(n_players):\n",
    "    sex = choice(['M', 'F'])\n",
    "    if sex == 'M':\n",
    "        name = choice(names_m)\n",
    "    else:\n",
    "        name = choice(names_f)\n",
    "    players.append(Player(i, sex, name))"
   ]
  },
  {
   "cell_type": "code",
   "execution_count": 9,
   "id": "f21d9e32",
   "metadata": {
    "ExecuteTime": {
     "end_time": "2022-11-23T07:11:55.584095Z",
     "start_time": "2022-11-23T07:11:55.571131Z"
    }
   },
   "outputs": [],
   "source": [
    "# Roll dice\n",
    "dice = []\n",
    "dice_2 = []\n",
    "for i in range(n_players):\n",
    "    dice.append(('B', randrange(1, 6)))\n",
    "    dice.append(('W', randrange(1, 6)))\n",
    "    dice.append(('B', randrange(1, 6)))\n",
    "    dice.append(('W', randrange(1, 6)))\n",
    "\n",
    "# Sort dice\n",
    "dice.sort(key = lambda x: x[1])"
   ]
  },
  {
   "cell_type": "code",
   "execution_count": 10,
   "id": "71cfd01c",
   "metadata": {
    "ExecuteTime": {
     "end_time": "2022-11-23T07:11:55.629984Z",
     "start_time": "2022-11-23T07:11:55.587088Z"
    }
   },
   "outputs": [],
   "source": [
    "# Create relationships and add details (without replacement, must reload playset to redo)\n",
    "\n",
    "# Locations, objects, and needs to be referenced later\n",
    "r_locations = []\n",
    "r_objects = []\n",
    "r_needs = []\n",
    "\n",
    "# Create relationship with next player\n",
    "for i in range(n_players):\n",
    "    if i+1 != n_players:\n",
    "        players[i].r1_character = players[i+1].name\n",
    "    else:\n",
    "        players[i].r1_character = players[0].name\n",
    "    players[i].r1_category = choice(list(relationships.keys()))\n",
    "    players[i].r1_nature = choice(relationships[players[i].r1_category])\n",
    "    # Add detail\n",
    "    if i > 3:\n",
    "        players[i].r1_detail_type = choice(['Location', 'Need', 'Object'])\n",
    "    else:\n",
    "        players[i].r1_detail_type = ['Location', 'Need', 'Object'][i % 3]\n",
    "    if players[i].r1_detail_type == 'Location':\n",
    "        players[i].r1_detail_category = choice(list(locations.keys()))\n",
    "        players[i].r1_detail = choice(locations[players[i].r1_detail_category])\n",
    "        r_locations.append(players[i].r1_detail)\n",
    "        locations[players[i].r1_detail_category].remove(players[i].r1_detail)\n",
    "    elif players[i].r1_detail_type == 'Need':\n",
    "        players[i].r1_detail_category = choice(list(needs.keys()))\n",
    "        players[i].r1_detail = choice(needs[players[i].r1_detail_category])\n",
    "        r_needs.append(players[i].r1_detail_category + players[i].r1_detail)\n",
    "        needs[players[i].r1_detail_category].remove(players[i].r1_detail)\n",
    "    else: \n",
    "        players[i].r1_detail_category = choice(list(objects.keys()))\n",
    "        players[i].r1_detail = choice(objects[players[i].r1_detail_category])\n",
    "        r_objects.append(players[i].r1_detail)\n",
    "        objects[players[i].r1_detail_category].remove(players[i].r1_detail)\n",
    "        # Remove chosen relationship and detail from list\n",
    "    relationships[players[i].r1_category].remove(players[i].r1_nature)\n",
    "    \n",
    "# Copy back relationships\n",
    "for i in range(n_players):\n",
    "    if i != 0:\n",
    "        i_back = i-1\n",
    "    else:\n",
    "        i_back = n_players-1\n",
    "    players[i].r2_character = players[i_back].name\n",
    "    players[i].r2_category = players[i_back].r1_category\n",
    "    players[i].r2_nature = players[i_back].r1_nature\n",
    "    players[i].r2_detail_type = players[i_back].r1_detail_type\n",
    "    players[i].r2_detail_category = players[i_back].r1_detail_category\n",
    "    players[i].r2_detail = players[i_back].r1_detail"
   ]
  },
  {
   "cell_type": "code",
   "execution_count": 11,
   "id": "d16899f0",
   "metadata": {
    "ExecuteTime": {
     "end_time": "2022-11-23T07:11:55.644932Z",
     "start_time": "2022-11-23T07:11:55.633963Z"
    }
   },
   "outputs": [
    {
     "name": "stdout",
     "output_type": "stream",
     "text": [
      "Celeste has a \"Gang leader and traitor from the Scorpions\" dynamic with Pepi. Together, they share a location, the All-American Karate of America.\n",
      "Pepi has a \"Mall security\" dynamic with Tiffanie. Together, they share a need to rule Co. B, 13th North Carolina Regiment, Army of Northern Virginia.\n",
      "Tiffanie has a \"Partners in violent misinterpretation\" dynamic with Moyna. Together, they share one of garments: Buddhist monk robes.\n",
      "Moyna has a \"Paroled ex-convict and dishonorably discharged prison guard\" dynamic with Deloria. Together, they share a location, the Apple Valley Supermarket sushi bar.\n",
      "Deloria has a \"Married to cement alliance between schools\" dynamic with Celeste. Together, they share a location, the 1/128th Cherokee stealth commando techniques.\n"
     ]
    }
   ],
   "source": [
    "# Initialize players and relationships\n",
    "for player in players:\n",
    "    text = ''\n",
    "    text += player.name\n",
    "    text += ' has a \"'\n",
    "    text += player.r1_nature\n",
    "    text += '\" dynamic with '\n",
    "    text += player.r1_character\n",
    "    text += '. Together, they share '\n",
    "    if player.r1_detail_type == 'Need':\n",
    "        text += 'a need '\n",
    "        text += player.r1_detail_category.lower()\n",
    "    elif player.r1_detail_type == 'Location':\n",
    "        text += 'a location, the '\n",
    "    elif player.r1_detail_type == 'Object':\n",
    "        text += 'one of '\n",
    "        text += player.r1_detail_category.lower()\n",
    "        text += ': '\n",
    "    text += player.r1_detail\n",
    "    text += '.'\n",
    "    print(text)"
   ]
  },
  {
   "cell_type": "code",
   "execution_count": 12,
   "id": "c62397fe",
   "metadata": {
    "ExecuteTime": {
     "end_time": "2022-11-23T07:11:55.660889Z",
     "start_time": "2022-11-23T07:11:55.647926Z"
    }
   },
   "outputs": [
    {
     "name": "stdout",
     "output_type": "stream",
     "text": [
      "('W', 2)\n",
      "Celeste is with Deloria at 1/128th Cherokee stealth commando techniques. This ends well for Celeste. \n",
      "('B', 1)\n",
      "Pepi is with Tiffanie and they come up with a plan to satisfy their need to rule Co. B, 13th North Carolina Regiment, Army of Northern Virginia. This ends poorly for Pepi. \n",
      "('B', 5)\n",
      "Tiffanie is with Pepi and they come up with a plan to quench their need to rule Co. B, 13th North Carolina Regiment, Army of Northern Virginia. This ends poorly for Tiffanie. \n",
      "('B', 2)\n",
      "Moyna is with Tiffanie with one of the garments: Buddhist monk robes. This ends poorly for Moyna. \n",
      "('W', 5)\n",
      "Deloria is with Moyna at Apple Valley Supermarket sushi bar. This ends well for Deloria. \n",
      "('W', 2)\n",
      "Celeste is with Pepi at All-American Karate of America. This ends well for Celeste. \n",
      "('B', 5)\n",
      "Pepi is with Tiffanie and they come up with a plan to satisfy their need to rule Co. B, 13th North Carolina Regiment, Army of Northern Virginia. This ends poorly for Pepi. \n",
      "('W', 5)\n",
      "Tiffanie is with Moyna with one of the garments: Buddhist monk robes. This ends well for Tiffanie. \n",
      "('W', 1)\n",
      "Moyna is with Deloria at Apple Valley Supermarket sushi bar. This ends well for Moyna. \n",
      "('B', 3)\n",
      "Deloria is with Celeste at 1/128th Cherokee stealth commando techniques. This ends poorly for Deloria. \n"
     ]
    }
   ],
   "source": [
    "# Act 1\n",
    "for i in range(2):\n",
    "    for player in players:\n",
    "        s_location = choice(r_locations)\n",
    "        s_object = choice(r_objects)\n",
    "        s_outcome = choice(dice)\n",
    "        dice.remove(s_outcome)\n",
    "        dice_2.append(s_outcome)\n",
    "        text = ''\n",
    "        text += player.name\n",
    "        text += ' is with '\n",
    "        if choice(['L', 'R']) == 'L':\n",
    "            text += player.r1_character\n",
    "            if player.r1_detail_type == 'Location':\n",
    "                text += ' at '\n",
    "                text += player.r1_detail\n",
    "                #text += ', '\n",
    "                #text += player.r1_detail_category\n",
    "                text += '. '\n",
    "            elif player.r1_detail_type == 'Object':\n",
    "                text += ' with one of the '\n",
    "                text += player.r1_detail_category.lower()\n",
    "                text += ': '\n",
    "                text += player.r1_detail\n",
    "                text += '. '\n",
    "            else:\n",
    "                text += ' and they come up with a plan to satisfy their need '\n",
    "                text += player.r1_detail_category.lower()\n",
    "                text += player.r1_detail\n",
    "                text += '. '\n",
    "        else:\n",
    "            text += player.r2_character\n",
    "            if player.r2_detail_type == 'Location':\n",
    "                text += ' at '\n",
    "                text += player.r2_detail\n",
    "                #text += ', '\n",
    "                #text += player.r2_detail_category\n",
    "                text += '. '\n",
    "            elif player.r2_detail_type == 'Object':\n",
    "                text += ' with one of the '\n",
    "                text += player.r2_detail_category.lower()\n",
    "                text += ': '\n",
    "                text += player.r2_detail\n",
    "                text += '. '\n",
    "            else:\n",
    "                text += ' and they come up with a plan to quench their need '\n",
    "                text += player.r2_detail_category.lower()\n",
    "                text += player.r2_detail\n",
    "                text += '. '\n",
    "        if s_outcome[0] == 'W':\n",
    "            text += 'This ends well for '\n",
    "        else:\n",
    "            text += 'This ends poorly for '\n",
    "        text += player.name\n",
    "        text += '. '\n",
    "        print(s_outcome)\n",
    "        print(text)"
   ]
  },
  {
   "cell_type": "code",
   "execution_count": 13,
   "id": "a9648477",
   "metadata": {
    "ExecuteTime": {
     "end_time": "2022-11-23T07:11:55.675850Z",
     "start_time": "2022-11-23T07:11:55.663883Z"
    }
   },
   "outputs": [
    {
     "name": "stdout",
     "output_type": "stream",
     "text": [
      "Things get complicated when a twist involving paranoia occurs: a sudden reversal (of status, of fortune, of sympathy). This affects everyone involved: Celeste, Pepi, Tiffanie, Moyna, Deloria. \n"
     ]
    }
   ],
   "source": [
    "# The tilt\n",
    "text = ''\n",
    "text += 'Things get complicated when a twist involving '\n",
    "tilt_category = choice(list(tilt.keys()))\n",
    "text += tilt_category.lower()\n",
    "text += ' occurs: '\n",
    "tilt_detail = choice(tilt[tilt_category])\n",
    "text += tilt_detail\n",
    "text += '. This affects everyone involved: '\n",
    "text += ', '.join([player.name for player in players])\n",
    "text += '. '\n",
    "print(text)"
   ]
  },
  {
   "cell_type": "code",
   "execution_count": 14,
   "id": "64228363",
   "metadata": {
    "ExecuteTime": {
     "end_time": "2022-11-23T07:11:55.691807Z",
     "start_time": "2022-11-23T07:11:55.678843Z"
    },
    "scrolled": false
   },
   "outputs": [
    {
     "name": "stdout",
     "output_type": "stream",
     "text": [
      "('W', 5)\n",
      "Celeste is with Deloria at 1/128th Cherokee stealth commando techniques. The twist involving paranoia where a sudden reversal (of status, of fortune, of sympathy) occurred affects the outcome. This scene ends well for Celeste. \n",
      "('B', 1)\n",
      "Pepi is with Celeste, Tiffanie, Moyna at Apple Valley Supermarket sushi bar. The twist involving paranoia where a sudden reversal (of status, of fortune, of sympathy) occurred affects the outcome. This scene ends poorly for Pepi. \n",
      "('B', 1)\n",
      "Tiffanie is with Celeste, Pepi at Apple Valley Supermarket sushi bar. The twist involving paranoia where a sudden reversal (of status, of fortune, of sympathy) occurred affects the outcome. This scene ends poorly for Tiffanie. \n",
      "('W', 4)\n",
      "Moyna is alone. Buddhist monk robes is there. This scene ends well for Moyna. \n",
      "('B', 1)\n",
      "Deloria is with Tiffanie at Apple Valley Supermarket sushi bar. Buddhist monk robes is there. The twist involving paranoia where a sudden reversal (of status, of fortune, of sympathy) occurred affects the outcome. This scene ends poorly for Deloria. \n",
      "('W', 5)\n",
      "Celeste is with Pepi, Moyna, Deloria at 1/128th Cherokee stealth commando techniques. This scene ends well for Celeste. \n",
      "('W', 4)\n",
      "Pepi is with Moyna at All-American Karate of America. Buddhist monk robes is there. This scene ends well for Pepi. \n",
      "('B', 1)\n",
      "Tiffanie is alone. Buddhist monk robes is there. This scene ends poorly for Tiffanie. \n",
      "('W', 4)\n",
      "Moyna is with Pepi, Deloria at All-American Karate of America. The twist involving paranoia where a sudden reversal (of status, of fortune, of sympathy) occurred affects the outcome. This scene ends well for Moyna. \n",
      "('W', 4)\n",
      "Deloria is alone. Buddhist monk robes is there. The twist involving paranoia where a sudden reversal (of status, of fortune, of sympathy) occurred affects the outcome. This scene ends well for Deloria. \n"
     ]
    }
   ],
   "source": [
    "# Act 2\n",
    "for i in range(2):\n",
    "    for player in players:\n",
    "        s_location = choice(r_locations)\n",
    "        s_object = choice(r_objects)\n",
    "        s_outcome = choice(dice)\n",
    "        player.aftermath += s_outcome[1] if s_outcome[0]=='W' else -s_outcome[1]\n",
    "        # Adjust the threshold between 0 and 10 to determine how many characters are involved\n",
    "        threshold = 5\n",
    "        involved = [p.name for p in players if p.name!=player.name and randrange(0, 10)>threshold]\n",
    "        text = ''\n",
    "        text += player.name\n",
    "        if len(involved) > 0:\n",
    "            text += ' is with '\n",
    "            text += ', '.join(involved)\n",
    "            text += ' at '\n",
    "            text += s_location\n",
    "            text += '. '\n",
    "        else:\n",
    "            text += ' is alone. '\n",
    "        if randrange(0, 10) > 3:\n",
    "            text += s_object\n",
    "            text += ' is there. '\n",
    "        if randrange(0, 10) > 3:\n",
    "            text += 'The twist involving '\n",
    "            text += tilt_category.lower()\n",
    "            text += ' where '\n",
    "            text += tilt_detail\n",
    "            text += ' occurred affects the outcome. '\n",
    "        if s_outcome[0] == 'W':\n",
    "            text += 'This scene ends well for '\n",
    "        else:\n",
    "            text += 'This scene ends poorly for '\n",
    "        text += player.name\n",
    "        text += '. '\n",
    "        print(s_outcome)\n",
    "        print(text)"
   ]
  },
  {
   "cell_type": "code",
   "execution_count": 15,
   "id": "ff0fdf85",
   "metadata": {
    "ExecuteTime": {
     "end_time": "2022-11-23T07:11:55.707765Z",
     "start_time": "2022-11-23T07:11:55.694800Z"
    }
   },
   "outputs": [
    {
     "name": "stdout",
     "output_type": "stream",
     "text": [
      "Celeste thought to themselves, \"Weak. Hey, you're busted, beat, and broke down, but at least you've learned a lesson about human greed and frailty, right? it'll serve you well in prison, which is probably where you are headed.\"\n",
      "Pepi thought to themselves, \"Fan-fucking-tastic. It's fat times ahead, safe and secure. That thing that would make your life better? Oh, you got it, absolutely, and then some. And then some more. Enjoy it!\"\n",
      "Tiffanie thought to themselves, \"Rough. You are getting whipped like a rented mule, for started, and you will remember this episode for all your diminished day. The lesson you learn will be profound, lingering, and painful.\"\n",
      "Moyna thought to themselves, \"Weak. Hey, you're busted, beat, and broke down, but at least you've learned a lesson about human greed and frailty, right? it'll serve you well in prison, which is probably where you are headed.\"\n",
      "Deloria thought to themselves, \"The worst thing in the universe. This probably doesn't include death, since death would be way better than whatever this is. Be creative and don't settle for the first \"worst\" thing that comes to mind - there's something darker, more awful, more wretched in there somewhere.\"\n"
     ]
    }
   ],
   "source": [
    "for player in players: \n",
    "    text = ''\n",
    "    for i in range(2):\n",
    "        pick = choice(dice_2)\n",
    "        player.aftermath += pick[1] if pick[0]=='W' else -pick[1]\n",
    "        dice_2.remove(pick)\n",
    "    text += player.name\n",
    "    text += ' thought to themselves, \\\"'\n",
    "    text += aftermath_dict[player.aftermath]\n",
    "    text += '\\\"'\n",
    "    print(text)"
   ]
  }
 ],
 "metadata": {
  "hide_input": true,
  "kernelspec": {
   "display_name": "Python 3",
   "language": "python",
   "name": "python3"
  },
  "language_info": {
   "codemirror_mode": {
    "name": "ipython",
    "version": 3
   },
   "file_extension": ".py",
   "mimetype": "text/x-python",
   "name": "python",
   "nbconvert_exporter": "python",
   "pygments_lexer": "ipython3",
   "version": "3.8.8"
  },
  "toc": {
   "base_numbering": 1,
   "nav_menu": {},
   "number_sections": true,
   "sideBar": true,
   "skip_h1_title": false,
   "title_cell": "Table of Contents",
   "title_sidebar": "Contents",
   "toc_cell": false,
   "toc_position": {},
   "toc_section_display": true,
   "toc_window_display": false
  }
 },
 "nbformat": 4,
 "nbformat_minor": 5
}
